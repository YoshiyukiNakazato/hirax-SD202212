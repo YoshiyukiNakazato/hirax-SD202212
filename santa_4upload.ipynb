{
 "cells": [
  {
   "cell_type": "code",
   "execution_count": 1,
   "id": "28c77145",
   "metadata": {},
   "outputs": [
    {
     "name": "stdout",
     "output_type": "stream",
     "text": [
      "Collecting package metadata (current_repodata.json): done\n",
      "Solving environment: done\n",
      "\n",
      "\n",
      "==> WARNING: A newer version of conda exists. <==\n",
      "  current version: 4.12.0\n",
      "  latest version: 22.9.0\n",
      "\n",
      "Please update conda by running\n",
      "\n",
      "    $ conda update -n base conda\n",
      "\n",
      "\n",
      "\n",
      "# All requested packages already installed.\n",
      "\n"
     ]
    }
   ],
   "source": [
    "# https://pypi.org/project/wolframclient/\n",
    "# conda install -c conda-forge wolframclient \n",
    "# pip install wolframclient\n",
    "\n",
    "# https://wolfram.com/engine/free-license \n",
    "\n",
    "# ModuleNotFoundError: No module named 'wolframclient'\n",
    "#!conda install -c conda-forge wolframclient\n",
    "!conda install -c wolframresearch wolframclient -y"
   ]
  },
  {
   "cell_type": "code",
   "execution_count": null,
   "id": "8e7ec9a1",
   "metadata": {},
   "outputs": [],
   "source": [
    "from wolframclient.evaluation import WolframLanguageSession\n",
    "from wolframclient.language import wlexpr, wl\n",
    "\n",
    "session = WolframLanguageSession()\n",
    "\n",
    "#session = WolframLanguageSession('/Applications/Wolfram Engine.app/Contents/MacOS/WolframKernel') \n",
    "#session = WolframLanguageSession('/Applications/Wolfram Engine.app/Contents/Resources/Wolfram Player.app/Contents/MacOS/WolframKernel')\n",
    "#session = WolframLanguageSession('/Applications/Mathematica 12.3.1.app/Contents/MacOS/WolframKernel')"
   ]
  },
  {
   "cell_type": "code",
   "execution_count": 7,
   "id": "39c4e8a8",
   "metadata": {},
   "outputs": [],
   "source": [
    "# 文字数削減用\n",
    "def func(expression):\n",
    "    return session.evaluate(wlexpr(expression))"
   ]
  },
  {
   "cell_type": "code",
   "execution_count": 19,
   "id": "89e635b1",
   "metadata": {},
   "outputs": [
    {
     "data": {
      "text/plain": [
       "'worldmap.png'"
      ]
     },
     "execution_count": 19,
     "metadata": {},
     "output_type": "execute_result"
    }
   ],
   "source": [
    "# 「球面上で、世界各国を最小移動距離で一周する経路」を計算し、\n",
    "# その経路を画像保存する\n",
    "s=func('''places=CountryData[\"Countries\"];\n",
    "centers=Map[GeoPosition[CountryData[#,\"CenterCoordinates\"]]&,places];\n",
    "{dist,route}=FindShortestTour[centers];\n",
    "GeoGraphics[{Red,Thickness[0.005],GeoPath[centers[[route]]]}, \n",
    "GeoRange->\"World\",GeoBackground->GeoStyling[\"ReliefMap\"],ImageSize->2400]''')\n",
    "session.evaluate(wl.Export(\"worldmap.png\",s,\"PNG\"))"
   ]
  },
  {
   "cell_type": "code",
   "execution_count": null,
   "id": "b2d9e607",
   "metadata": {},
   "outputs": [],
   "source": [
    "# 「球面上で、世界各国を最小移動距離で一周する経路」の経路を緯度経度リストにする\n",
    "func('''countryCenters=Map[First[GeoPositionXYZ[#]]&,centers[[route]]];\n",
    "arc[x_,y_]:=Module[{a},a=VectorAngle[x,y];\n",
    "Table[Evaluate[RotationTransform[\\[Theta],{x,y}][x]],{\\[Theta],0,a,a/Ceiling[10 a]}]]\n",
    "tourLine=Apply[arc,Partition[countryCenters,2,1],{1}];\n",
    "route=Map[QuantityMagnitude[LatitudeLongitude[GeoPositionXYZ[#]],\"AngularDegrees\"]&,  \n",
    "Flatten[tourLine,1],{1}]''')\n",
    "lat_lons =  func('route')"
   ]
  },
  {
   "cell_type": "code",
   "execution_count": 9,
   "id": "da801c25",
   "metadata": {},
   "outputs": [],
   "source": [
    "# Google earthで可視化するために、2022年11月号記事の「航空機情報」形式に近づける\n",
    "from collections import namedtuple\n",
    "flights = []\n",
    "FlightPos=namedtuple('FlightPos',('longitude','latitude','altitude'))\n",
    "for lat_lon in lat_lons:\n",
    "    flights.append(FlightPos(latitude=lat_lon[0],longitude=lat_lon[1],\n",
    "                             altitude=100000))"
   ]
  },
  {
   "cell_type": "code",
   "execution_count": 12,
   "id": "0960a5f6",
   "metadata": {},
   "outputs": [],
   "source": [
    "# サンタの移動経路を、Google Earthで可視化する\n",
    "fname = 'flight_path'\n",
    "f = open(fname+'.kml', 'w')\n",
    "#Writing the kml file.\n",
    "f.write(\"<?xml version='1.0' encoding='UTF-8'?>\\n\")\n",
    "f.write(\"<kml xmlns='http://earth.google.com/kml/2.2'>\\n\")\n",
    "f.write(\"<Document>\\n\")\n",
    "f.write(\"   <name>flight</name>\\n\")\n",
    "\n",
    "for i in range(len(flights)-1):\n",
    "    \n",
    "    f.write(\"<Placemark>\\n\") \n",
    "    f.write(\"        <TimeSpan>\\n          <begin>\"\n",
    "      +'2015-12-02T%02i:%02i:%02iZ'%(12,30,0)\n",
    "      +\"</begin>\\n        </TimeSpan>\\n\")        \n",
    "    f.write(\"   <Style>\\n\")\n",
    "    f.write(\"   <LineStyle>\\n\")\n",
    "    f.write(\"   <color>800000ff</color>\\n\") # abgr\n",
    "\n",
    "    #f.write(\"   <width>0.2</width>\\n\")\n",
    "    \n",
    "    f.write(\"   <width>15</width>\\n\")\n",
    "    \n",
    "    f.write(\"   </LineStyle>\\n\")\n",
    "    f.write(\"   </Style>\\n\")\n",
    "    f.write(\"   <LineString>\\n\")\n",
    "    f.write(\"       <extrude>1</extrude>\\n\")\n",
    "    f.write(\"       <altitudeMode>absolute</altitudeMode>\\n\")\n",
    "    f.write(\"        <coordinates>\"\n",
    "            \n",
    "    #  +str(flight.longitude)+\",\"+str(flight.latitude)+\",\"+str(flight.altitude*0.3048)\n",
    "    #  +\" \"\n",
    "    #  +str(flight.longitude)+\",\"+str(flight.latitude)+\",\"+str(0)+\"</coordinates>\\n\")\n",
    "    \n",
    "      +str(flights[i].longitude)+\",\"+str(flights[i].latitude)+\",\"+str(flights[i].altitude)\n",
    "      +\" \"+str(flights[i+1].longitude)+\",\"+str(flights[i+1].latitude)+\",\"\n",
    "      +str(flights[i].altitude)+\"</coordinates>\\n\")\n",
    "    \n",
    "    f.write(\"   </LineString>\\n\")    \n",
    "    f.write(\"</Placemark>\\n\")    \n",
    "f.write(\"</Document>\")\n",
    "f.write(\"</kml>\\n\")\n",
    "f.close()"
   ]
  },
  {
   "cell_type": "code",
   "execution_count": 14,
   "id": "cc4583d3",
   "metadata": {},
   "outputs": [
    {
     "data": {
      "text/plain": [
       "'eq.png'"
      ]
     },
     "execution_count": 14,
     "metadata": {},
     "output_type": "execute_result"
    }
   ],
   "source": [
    "# サンタの微分方程式を解いて、得られた答えを画像として保存する\n",
    "s = \"eq=DSolve[サンタ'[t]==こども'[t],サンタ[t],t];\" \\\n",
    " + \"Rasterize[eq // TraditionalForm,ImageSize->2400]\"\n",
    "session.evaluate(wl.Export(\"eq.png\", func(s), \"PNG\"))"
   ]
  },
  {
   "cell_type": "code",
   "execution_count": null,
   "id": "c7d6ffe1",
   "metadata": {},
   "outputs": [],
   "source": [
    "session.terminate()"
   ]
  }
 ],
 "metadata": {
  "kernelspec": {
   "display_name": "Python 3 (ipykernel)",
   "language": "python",
   "name": "python3"
  },
  "language_info": {
   "codemirror_mode": {
    "name": "ipython",
    "version": 3
   },
   "file_extension": ".py",
   "mimetype": "text/x-python",
   "name": "python",
   "nbconvert_exporter": "python",
   "pygments_lexer": "ipython3",
   "version": "3.7.4"
  }
 },
 "nbformat": 4,
 "nbformat_minor": 5
}
